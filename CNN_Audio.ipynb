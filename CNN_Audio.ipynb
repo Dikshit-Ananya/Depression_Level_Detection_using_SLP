{
  "nbformat": 4,
  "nbformat_minor": 0,
  "metadata": {
    "colab": {
      "provenance": [],
      "machine_shape": "hm"
    },
    "kernelspec": {
      "name": "python3",
      "display_name": "Python 3"
    },
    "accelerator": "GPU"
  },
  "cells": [
    {
      "cell_type": "markdown",
      "metadata": {
        "id": "view-in-github"
      },
      "source": [
        "<a href=\"https://colab.research.google.com/github/notmanan/Depression-Detection-Through-Multi-Modal-Data/blob/master/CNN_Audio.ipynb\" target=\"_parent\"><img src=\"https://colab.research.google.com/assets/colab-badge.svg\" alt=\"Open In Colab\"/></a>"
      ]
    },
    {
      "cell_type": "code",
      "metadata": {
        "id": "J1Ya1lJORCyk",
        "colab": {
          "base_uri": "https://localhost:8080/"
        },
        "outputId": "69b3d251-9d84-4e8d-a11a-f94ec00b9694"
      },
      "source": [
        "from google.colab import drive\n",
        "drive.mount('/content/drive')\n",
        "import numpy as np\n",
        "import pandas as pd \n",
        "import sklearn\n",
        "import gc\n",
        "# Importing the Keras libraries and packages\n",
        "import keras\n",
        "from keras.models import Sequential\n",
        "from keras.layers import Conv1D\n",
        "from keras.layers import MaxPooling1D\n",
        "from keras.layers import Flatten\n",
        "from keras.layers import Dense\n",
        "from keras.layers import Dropout\n",
        "from keras import metrics"
      ],
      "execution_count": 1,
      "outputs": [
        {
          "output_type": "stream",
          "name": "stdout",
          "text": [
            "Mounted at /content/drive\n"
          ]
        }
      ]
    },
    {
      "cell_type": "markdown",
      "metadata": {
        "id": "UIiWg0u79u93"
      },
      "source": [
        "# Prepare Data"
      ]
    },
    {
      "cell_type": "code",
      "metadata": {
        "id": "EHwnhB7pydY0",
        "colab": {
          "base_uri": "https://localhost:8080/"
        },
        "outputId": "e5f25f69-5b80-47aa-94dc-36e622bd5ea2"
      },
      "source": [
        "def makedata(X):\n",
        "    for i in range(X.shape[0]):\n",
        "        if(X[i,1] == 0):\n",
        "            X[i,0] = 0\n",
        "            for j in range(7):\n",
        "                X[i,j+1] = 0\n",
        "    # X = np.array(X)\n",
        "    return X\n",
        "\n",
        "def scale_down(X):\n",
        "  if(X.shape[0]<70000):\n",
        "    return X\n",
        "  X_new = []\n",
        "  for i in range(int(X.shape[0]/2)):\n",
        "    cur_row = X[i*2]\n",
        "    for j in range(1,2):\n",
        "      if(i+j < X.shape[0]):\n",
        "        cur_row += X[i+j]\n",
        "    cur_row = cur_row/2.0\n",
        "    X_new.append(cur_row)\n",
        "  X_new = np.array(X_new)\n",
        "  return X_new\n",
        "\n",
        "def decrease_size(X):\n",
        "  size = 30000\n",
        "  if(X.shape[0]<size):\n",
        "    dif = size - X.shape[0] \n",
        "    temp = np.zeros((dif,X.shape[1]))\n",
        "    X = np.concatenate((X,temp),axis = 0)\n",
        "  if(X.shape[0]>size):\n",
        "    X = X[:30000]\n",
        "  return X\n",
        "\n",
        "def Thresholding(Y_pred, threshold):\n",
        "  Y_pred2 = []\n",
        "  print(\"Y_pred: \", Y_pred.shape)\n",
        "  for i in range(len(Y_pred)):\n",
        "    if(Y_pred[i] < threshold):\n",
        "      Y_pred2.append(0)\n",
        "    else:\n",
        "      Y_pred2.append(1)\n",
        "\n",
        "  return np.array(Y_pred2)\n",
        "\n",
        "def upsample(X_train,Y_train):\n",
        "  X_train_0 = X_train[Y_train<10]\n",
        "  X_train_1 = X_train[Y_train>=10]\n",
        "\n",
        "  Y_train_1 = Y_train[Y_train>=10]\n",
        "  # print(Y_train_1.shape)\n",
        "  # print(X_train_1.shape)\n",
        "  size = X_train_0.shape[0] - X_train_1.shape[0]\n",
        "  X = []\n",
        "  Y = []\n",
        "  X_train = list(X_train)\n",
        "  Y_train = list(Y_train)\n",
        "  while(size>0):\n",
        "    size -= 1\n",
        "    index = np.random.randint(0,X_train_1.shape[0]-1)\n",
        "    leave_index = np.random.randint(0,len(X_train)-1)\n",
        "    X_add = X_train_1[index]\n",
        "    X_leave = X_train[leave_index]\n",
        "\n",
        "    Y_add = Y_train_1[index]\n",
        "    Y_leave = Y_train[leave_index]\n",
        "\n",
        "    X_train[leave_index] = X_add\n",
        "    X_train.append(X_leave)\n",
        "\n",
        "    Y_train[leave_index] = Y_add\n",
        "    Y_train.append(Y_leave)\n",
        "\n",
        "\n",
        "  #X_train = np.array(X_train)\n",
        "  #Y_train = np.array(Y_train)\n",
        "\n",
        "  X_train = np.asarray(X_train).astype(np.float32)\n",
        "  Y_train = np.asarray(Y_train).astype(np.float32)\n",
        "\n",
        "  return X_train,Y_train\n",
        "\n",
        "\n",
        "dev = np.array(pd.read_csv('/content/drive/My Drive/MCA Dataset/devdata.csv',delimiter=',',encoding='utf-8'))[:, 0:4]\n",
        "test = np.array(pd.read_csv('/content/drive/My Drive/MCA Dataset/testdata.csv',delimiter=',',encoding='utf-8'))[:, 0:4]\n",
        "train = np.array(pd.read_csv('/content/drive/My Drive/MCA Dataset/traindata.csv',delimiter=',',encoding='utf-8'))[:, 0:4]\n",
        "\n",
        "X_train = []\n",
        "Y_train = []\n",
        "\n",
        "X_test = []\n",
        "Y_test = []\n",
        "size = 40000\n",
        "\n",
        "for i in range(len(test)):\n",
        "    data = pd.read_csv('/content/drive/My Drive/MCA Dataset/300_P/'+str(int(test[i][0]))+\"_COVAREP.csv\",header = None)\n",
        "    X_temp = data.iloc[:,:].values\n",
        "    X_temp = makedata(X_temp)\n",
        "    X_temp = X_temp[X_temp.shape[0]-size:]\n",
        "    X_test.append(X_temp)\n",
        "    Y_test.append(test[i][2])\n",
        "\n",
        "X_test = np.array(X_test)\n",
        "Y_test = np.array(Y_test)      \n",
        "test = []\n",
        "gc.collect()\n",
        "\n",
        "for i in range(len(train)):\n",
        "    data = pd.read_csv('/content/drive/My Drive/MCA Dataset/303_P/'+str(int(train[i][0]))+\"_COVAREP.csv\",header = None)\n",
        "    X_temp = data.iloc[:,:].values\n",
        "    X_temp = makedata(X_temp)\n",
        "    X_temp = X_temp[X_temp.shape[0]-size:]\n",
        "    X_train.append(X_temp)\n",
        "    Y_train.append(train[i][2])\n",
        "\n",
        "train = []\n",
        "gc.collect()\n",
        "\n",
        "for i in range(len(dev)):\n",
        "    data = pd.read_csv('/content/drive/My Drive/MCA Dataset/302_P/'+str(int(dev[i][0]))+\"_COVAREP.csv\",header = None)\n",
        "    X_temp = data.iloc[:,:].values\n",
        "    X_temp = makedata(X_temp)\n",
        "    X_temp = X_temp[X_temp.shape[0]-size:]\n",
        "    X_train.append(X_temp)\n",
        "    Y_train.append(dev[i][2])\n",
        "\n",
        "X_temp = []\n",
        "dev = []\n",
        "gc.collect()\n",
        "\n",
        "X_train = np.array(X_train, dtype = object)\n",
        "Y_train = np.array(Y_train)\n",
        "\n",
        "X_upsample, Y_upsample = upsample(X_train,Y_train)\n",
        "# print(X_upsample.shape)\n",
        "X_train = []\n",
        "Y_train = []\n",
        "gc.collect()"
      ],
      "execution_count": 2,
      "outputs": [
        {
          "output_type": "execute_result",
          "data": {
            "text/plain": [
              "0"
            ]
          },
          "metadata": {},
          "execution_count": 2
        }
      ]
    },
    {
      "cell_type": "markdown",
      "metadata": {
        "id": "F2lRrjOH94uN"
      },
      "source": [
        "# CNN Model For Audio"
      ]
    },
    {
      "cell_type": "code",
      "metadata": {
        "id": "aKBw_OtjTVrt",
        "outputId": "752af799-fc14-477b-d089-9dae9aa39a6a",
        "colab": {
          "base_uri": "https://localhost:8080/"
        }
      },
      "source": [
        "class CNN_audio:\n",
        "\n",
        "  def __init__(self):\n",
        "# Initialising the CNN\n",
        "    classifier = Sequential()\n",
        "# Step 1 - Convolution\n",
        "    classifier.add(Conv1D(60, 10, input_shape = (40000, 74), activation = 'relu'))\n",
        "# Step 2 - Pooling\n",
        "    classifier.add(MaxPooling1D(pool_size = 3))\n",
        "# Adding a second convolutional layer\n",
        "    classifier.add(Conv1D(30, 5, activation = 'relu'))\n",
        "    classifier.add(MaxPooling1D(pool_size = 3))\n",
        "    classifier.add(Conv1D(15, 5, activation = 'relu'))\n",
        "    classifier.add(MaxPooling1D(pool_size = 3))\n",
        "# Step 3 - Flattening\n",
        "    classifier.add(Flatten())\n",
        "    classifier.add(Dropout(0.5))\n",
        "# Step 4 - Full connection\n",
        "    classifier.add(Dense(units = 128, activation = 'relu'))\n",
        "    classifier.add(Dense(units = 1, activation = 'sigmoid'))\n",
        "# classifier.add(Dense(units = 1, activation = 'sigmoid'))\n",
        "\n",
        "# Compiling the CNN\n",
        "    lf = keras.losses.MeanSquaredLogarithmicError()\n",
        "    classifier.compile(optimizer = 'adam', loss = lf, metrics = [keras.metrics.MeanSquaredError(), keras.metrics.AUC()])\n",
        "    self.classifier = classifier\n",
        "  \n",
        "  def modelFit(self, X, Y, epoch = 10):\n",
        "    self.classifier.fit(X, Y, epochs=epoch)\n",
        "\n",
        "  def modelPredict(self, X):\n",
        "    return self.classifier.predict(X)\n",
        "  \n",
        "  def modelEvaluate(self,X,Y):\n",
        "    return self.classifier.evaluate(X,Y,verbose=1)\n",
        "\n",
        "model = CNN_audio()\n",
        "model.modelFit(X_upsample, Y_upsample, 30)\n",
        "Y_pred = model.modelPredict(X_test)\n",
        "# Y_pred = Thresholding(model.modelPredict(X_test), 0.8)\n",
        "# print(classification_report(Y_test,Y_pred))"
      ],
      "execution_count": 3,
      "outputs": [
        {
          "output_type": "stream",
          "name": "stdout",
          "text": [
            "Epoch 1/30\n",
            "3/3 [==============================] - 16s 617ms/step - loss: 2.4054 - mean_squared_error: 89.2450 - auc: 0.5000\n",
            "Epoch 2/30\n",
            "3/3 [==============================] - 1s 231ms/step - loss: 2.4053 - mean_squared_error: 89.2436 - auc: 0.5000\n",
            "Epoch 3/30\n",
            "3/3 [==============================] - 1s 285ms/step - loss: 2.4053 - mean_squared_error: 89.2436 - auc: 0.5000\n",
            "Epoch 4/30\n",
            "3/3 [==============================] - 1s 275ms/step - loss: 2.4053 - mean_squared_error: 89.2436 - auc: 0.5000\n",
            "Epoch 5/30\n",
            "3/3 [==============================] - 1s 205ms/step - loss: 2.4053 - mean_squared_error: 89.2436 - auc: 0.5000\n",
            "Epoch 6/30\n",
            "3/3 [==============================] - 1s 210ms/step - loss: 2.4053 - mean_squared_error: 89.2436 - auc: 0.5000\n",
            "Epoch 7/30\n",
            "3/3 [==============================] - 1s 210ms/step - loss: 2.4053 - mean_squared_error: 89.2436 - auc: 0.5000\n",
            "Epoch 8/30\n",
            "3/3 [==============================] - 1s 207ms/step - loss: 2.4053 - mean_squared_error: 89.2436 - auc: 0.5000\n",
            "Epoch 9/30\n",
            "3/3 [==============================] - 1s 200ms/step - loss: 2.4053 - mean_squared_error: 89.2436 - auc: 0.5000\n",
            "Epoch 10/30\n",
            "3/3 [==============================] - 1s 208ms/step - loss: 2.4053 - mean_squared_error: 89.2436 - auc: 0.5000\n",
            "Epoch 11/30\n",
            "3/3 [==============================] - 1s 208ms/step - loss: 2.4053 - mean_squared_error: 89.2436 - auc: 0.5000\n",
            "Epoch 12/30\n",
            "3/3 [==============================] - 1s 209ms/step - loss: 2.4053 - mean_squared_error: 89.2436 - auc: 0.5000\n",
            "Epoch 13/30\n",
            "3/3 [==============================] - 1s 204ms/step - loss: 2.4053 - mean_squared_error: 89.2436 - auc: 0.5000\n",
            "Epoch 14/30\n",
            "3/3 [==============================] - 1s 209ms/step - loss: 2.4053 - mean_squared_error: 89.2436 - auc: 0.5000\n",
            "Epoch 15/30\n",
            "3/3 [==============================] - 1s 204ms/step - loss: 2.4053 - mean_squared_error: 89.2436 - auc: 0.5000\n",
            "Epoch 16/30\n",
            "3/3 [==============================] - 1s 203ms/step - loss: 2.4053 - mean_squared_error: 89.2436 - auc: 0.5000\n",
            "Epoch 17/30\n",
            "3/3 [==============================] - 1s 213ms/step - loss: 2.4053 - mean_squared_error: 89.2436 - auc: 0.5000\n",
            "Epoch 18/30\n",
            "3/3 [==============================] - 1s 209ms/step - loss: 2.4053 - mean_squared_error: 89.2436 - auc: 0.5000\n",
            "Epoch 19/30\n",
            "3/3 [==============================] - 1s 269ms/step - loss: 2.4053 - mean_squared_error: 89.2436 - auc: 0.5000\n",
            "Epoch 20/30\n",
            "3/3 [==============================] - 1s 274ms/step - loss: 2.4053 - mean_squared_error: 89.2436 - auc: 0.5000\n",
            "Epoch 21/30\n",
            "3/3 [==============================] - 1s 262ms/step - loss: 2.4053 - mean_squared_error: 89.2436 - auc: 0.5000\n",
            "Epoch 22/30\n",
            "3/3 [==============================] - 1s 246ms/step - loss: 2.4053 - mean_squared_error: 89.2436 - auc: 0.5000\n",
            "Epoch 23/30\n",
            "3/3 [==============================] - 1s 206ms/step - loss: 2.4053 - mean_squared_error: 89.2436 - auc: 0.5000\n",
            "Epoch 24/30\n",
            "3/3 [==============================] - 1s 203ms/step - loss: 2.4053 - mean_squared_error: 89.2436 - auc: 0.5000\n",
            "Epoch 25/30\n",
            "3/3 [==============================] - 1s 202ms/step - loss: 2.4053 - mean_squared_error: 89.2436 - auc: 0.5000\n",
            "Epoch 26/30\n",
            "3/3 [==============================] - 1s 204ms/step - loss: 2.4053 - mean_squared_error: 89.2436 - auc: 0.5000\n",
            "Epoch 27/30\n",
            "3/3 [==============================] - 1s 206ms/step - loss: 2.4053 - mean_squared_error: 89.2436 - auc: 0.5000\n",
            "Epoch 28/30\n",
            "3/3 [==============================] - 1s 216ms/step - loss: 2.4053 - mean_squared_error: 89.2436 - auc: 0.5000\n",
            "Epoch 29/30\n",
            "3/3 [==============================] - 1s 202ms/step - loss: 2.4053 - mean_squared_error: 89.2436 - auc: 0.5000\n",
            "Epoch 30/30\n",
            "3/3 [==============================] - 1s 180ms/step - loss: 2.4053 - mean_squared_error: 89.2436 - auc: 0.5000\n",
            "1/1 [==============================] - 1s 1s/step\n"
          ]
        }
      ]
    },
    {
      "cell_type": "code",
      "source": [
        "scores = model.modelEvaluate(X_test, Y_test)\n",
        "print(\"Loss:\", scores)"
      ],
      "metadata": {
        "colab": {
          "base_uri": "https://localhost:8080/"
        },
        "id": "A2S0s5kr9as3",
        "outputId": "c7da7fca-097d-44da-d59b-5fe87de2af16"
      },
      "execution_count": 4,
      "outputs": [
        {
          "output_type": "stream",
          "name": "stdout",
          "text": [
            "1/1 [==============================] - 1s 705ms/step - loss: 2.2363 - mean_squared_error: 102.9200 - auc: 0.5000\n",
            "Loss: [2.236299514770508, 102.91999816894531, 0.5]\n"
          ]
        }
      ]
    },
    {
      "cell_type": "code",
      "metadata": {
        "id": "PaZk711JSjDm"
      },
      "source": [
        "# classifier = Sequential()\n",
        "\n",
        "# # Step 1 - Convolution\n",
        "# classifier.add(Conv1D(32, 3, input_shape = (6000, 74), activation = 'relu'))\n",
        "\n",
        "# # Step 2 - Pooling\n",
        "# # classifier.add(MaxPooling1D(pool_size = 2))\n",
        "\n",
        "# # Adding a second convolutional layer\n",
        "# classifier.add(Conv1D(32, 3, activation = 'relu'))\n",
        "# classifier.add(MaxPooling1D(pool_size = 2))\n",
        "\n",
        "# # Step 3 - Flattening\n",
        "# classifier.add(Flatten())\n",
        "\n",
        "# # Step 4 - Full connection\n",
        "# classifier.add(Dense(units = 128, activation = 'relu'))\n",
        "# classifier.add(Dense(units = 1, activation = 'sigmoid'))\n",
        "\n",
        "# # Compiling the CNN\n",
        "# lf = keras.losses.MeanSquaredLogarithmicError()\n",
        "# classifier.compile(optimizer = 'adam', loss = lf, metrics = [keras.metrics.MeanSquaredError(), keras.metrics.AUC()])\n",
        "\n",
        "# classifier.fit(X_train, Y_train, epochs=30)\n",
        "# score = classifier.evaluate(X_test, Y_test)"
      ],
      "execution_count": null,
      "outputs": []
    }
  ]
}